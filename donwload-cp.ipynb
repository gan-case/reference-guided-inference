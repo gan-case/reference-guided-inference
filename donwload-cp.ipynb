{
 "cells": [
  {
   "cell_type": "code",
   "execution_count": 1,
   "id": "ef9c12fd-702e-48b8-a20b-310ad3f698c2",
   "metadata": {
    "execution": {
     "iopub.execute_input": "2023-08-04T02:23:31.857660Z",
     "iopub.status.busy": "2023-08-04T02:23:31.856853Z",
     "iopub.status.idle": "2023-08-04T02:23:31.864803Z",
     "shell.execute_reply": "2023-08-04T02:23:31.864113Z",
     "shell.execute_reply.started": "2023-08-04T02:23:31.857660Z"
    }
   },
   "outputs": [],
   "source": [
    "import os\n",
    "EXPERIMENT_TYPE = 'ffhq_aging'"
   ]
  },
  {
   "cell_type": "code",
   "execution_count": 2,
   "id": "49c8e3fd-5a26-4516-a454-12c842429c11",
   "metadata": {
    "execution": {
     "iopub.execute_input": "2023-08-04T02:23:32.532836Z",
     "iopub.status.busy": "2023-08-04T02:23:32.531994Z",
     "iopub.status.idle": "2023-08-04T02:23:32.538267Z",
     "shell.execute_reply": "2023-08-04T02:23:32.537347Z",
     "shell.execute_reply.started": "2023-08-04T02:23:32.532818Z"
    }
   },
   "outputs": [],
   "source": [
    "def get_download_model_command(file_id, file_name):\n",
    "    \"\"\" Get wget download command for downloading the desired model and save to directory ../pretrained_models. \"\"\"\n",
    "    current_directory = os.getcwd()\n",
    "    save_path = os.path.join(os.path.dirname(current_directory), \"reference-guided-inference/checkpoints\")\n",
    "    if not os.path.exists(save_path):\n",
    "        os.makedirs(save_path)\n",
    "    url = r\"\"\"wget --load-cookies /tmp/cookies.txt \"https://docs.google.com/uc?export=download&confirm=$(wget --quiet --save-cookies /tmp/cookies.txt --keep-session-cookies --no-check-certificate 'https://docs.google.com/uc?export=download&id={FILE_ID}' -O- | sed -rn 's/.*confirm=([0-9A-Za-z_]+).*/\\1\\n/p')&id={FILE_ID}\" -O {SAVE_PATH}/{FILE_NAME} && rm -rf /tmp/cookies.txt\"\"\".format(FILE_ID=file_id, FILE_NAME=file_name, SAVE_PATH=save_path)\n",
    "    return url    "
   ]
  },
  {
   "cell_type": "code",
   "execution_count": 3,
   "id": "0efc7af1-1920-4a3b-b735-c76d87fd54ea",
   "metadata": {
    "execution": {
     "iopub.execute_input": "2023-08-04T02:23:32.902999Z",
     "iopub.status.busy": "2023-08-04T02:23:32.902093Z",
     "iopub.status.idle": "2023-08-04T02:23:32.907296Z",
     "shell.execute_reply": "2023-08-04T02:23:32.906361Z",
     "shell.execute_reply.started": "2023-08-04T02:23:32.902969Z"
    }
   },
   "outputs": [],
   "source": [
    "MODEL_PATHS = {\n",
    "    \"ffhq_aging\": {\"id\": \"1XyumF6_fdAxFmxpFcmPf-q84LU_22EMC\", \"name\": \"sam_ffhq_aging.pt\"}\n",
    "}\n",
    "\n",
    "path = MODEL_PATHS[EXPERIMENT_TYPE]\n",
    "download_command = get_download_model_command(file_id=path[\"id\"], file_name=path[\"name\"]) "
   ]
  },
  {
   "cell_type": "code",
   "execution_count": 4,
   "id": "143dd539-19a9-4394-b683-fe6d4981a6d5",
   "metadata": {
    "execution": {
     "iopub.execute_input": "2023-08-04T02:23:33.400888Z",
     "iopub.status.busy": "2023-08-04T02:23:33.400039Z",
     "iopub.status.idle": "2023-08-04T02:24:13.510617Z",
     "shell.execute_reply": "2023-08-04T02:24:13.509184Z",
     "shell.execute_reply.started": "2023-08-04T02:23:33.400858Z"
    }
   },
   "outputs": [
    {
     "name": "stdout",
     "output_type": "stream",
     "text": [
      "--2023-08-04 02:23:39--  http://wget/\n",
      "Resolving wget (wget)... failed: Name or service not known.\n",
      "wget: unable to resolve host address ‘wget’\n",
      "--2023-08-04 02:23:44--  https://docs.google.com/uc?export=download&confirm=t&id=1XyumF6_fdAxFmxpFcmPf-q84LU_22EMC\n",
      "Resolving docs.google.com (docs.google.com)... 142.250.65.206, 2607:f8b0:4006:821::200e\n",
      "Connecting to docs.google.com (docs.google.com)|142.250.65.206|:443... connected.\n",
      "HTTP request sent, awaiting response... 303 See Other\n",
      "Location: https://doc-00-8g-docs.googleusercontent.com/docs/securesc/ha0ro937gcuc7l7deffksulhg5h7mbp1/8no4n2cgn99k2hlkl735779fbhbm6mli/1691115750000/05457687429326987275/*/1XyumF6_fdAxFmxpFcmPf-q84LU_22EMC?e=download&uuid=c79e4fa2-0c15-42f2-b8b0-572e8ab29da7 [following]\n",
      "Warning: wildcards not supported in HTTP.\n",
      "--2023-08-04 02:23:44--  https://doc-00-8g-docs.googleusercontent.com/docs/securesc/ha0ro937gcuc7l7deffksulhg5h7mbp1/8no4n2cgn99k2hlkl735779fbhbm6mli/1691115750000/05457687429326987275/*/1XyumF6_fdAxFmxpFcmPf-q84LU_22EMC?e=download&uuid=c79e4fa2-0c15-42f2-b8b0-572e8ab29da7\n",
      "Resolving doc-00-8g-docs.googleusercontent.com (doc-00-8g-docs.googleusercontent.com)... 142.251.40.161, 2607:f8b0:4006:821::2001\n",
      "Connecting to doc-00-8g-docs.googleusercontent.com (doc-00-8g-docs.googleusercontent.com)|142.251.40.161|:443... connected.\n",
      "HTTP request sent, awaiting response... 200 OK\n",
      "Length: 2270547237 (2.1G) [application/x-zip]\n",
      "Saving to: ‘/notebooks/reference-guided-inference/checkpoints/sam_ffhq_aging.pt’\n",
      "\n",
      "/notebooks/referenc 100%[===================>]   2.11G  79.0MB/s    in 28s     \n",
      "\n",
      "2023-08-04 02:24:13 (76.2 MB/s) - ‘/notebooks/reference-guided-inference/checkpoints/sam_ffhq_aging.pt’ saved [2270547237/2270547237]\n",
      "\n",
      "FINISHED --2023-08-04 02:24:13--\n",
      "Total wall clock time: 34s\n",
      "Downloaded: 1 files, 2.1G in 28s (76.2 MB/s)\n"
     ]
    }
   ],
   "source": [
    "!wget {download_command}"
   ]
  },
  {
   "cell_type": "code",
   "execution_count": null,
   "id": "d03cd45a-3a07-4e8b-be83-8e1f08fbd6ce",
   "metadata": {},
   "outputs": [],
   "source": []
  }
 ],
 "metadata": {
  "kernelspec": {
   "display_name": "Python 3 (ipykernel)",
   "language": "python",
   "name": "python3"
  },
  "language_info": {
   "codemirror_mode": {
    "name": "ipython",
    "version": 3
   },
   "file_extension": ".py",
   "mimetype": "text/x-python",
   "name": "python",
   "nbconvert_exporter": "python",
   "pygments_lexer": "ipython3",
   "version": "3.9.16"
  }
 },
 "nbformat": 4,
 "nbformat_minor": 5
}
